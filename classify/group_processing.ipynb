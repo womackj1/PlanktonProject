{
 "cells": [
  {
   "cell_type": "code",
   "execution_count": 1,
   "id": "little-challenge",
   "metadata": {},
   "outputs": [
    {
     "name": "stdout",
     "output_type": "stream",
     "text": [
      "C:\\Users\\NayakLab\\Desktop\\Ranjoy_data\\EastSound_2015\\automated_classification\\holographic_plankton_classification-main\\samples\\test/ C:\\Users\\NayakLab\\Desktop\\Ranjoy_data\\EastSound_2015\\automated_classification\\holographic_plankton_classification-main\\samples\\test\\crop_withBackground/ C:/Users/NayakLab/Desktop/Ranjoy_data/EastSound_2015/automated_classification/holographic_plankton_classification-main/samples/test/crop_withBackground/\n",
      "segmentationTime = 5.381911993026733\n"
     ]
    },
    {
     "name": "stderr",
     "output_type": "stream",
     "text": [
      "c:\\programdata\\anaconda3\\envs\\automated_class\\lib\\site-packages\\torch\\serialization.py:656: SourceChangeWarning: source code of class 'torchvision.models.shufflenetv2.ShuffleNetV2' has changed. you can retrieve the original source code by accessing the object's source attribute or set `torch.nn.Module.dump_patches = True` and use the patch tool to revert the changes.\n",
      "  warnings.warn(msg, SourceChangeWarning)\n",
      "c:\\programdata\\anaconda3\\envs\\automated_class\\lib\\site-packages\\torch\\serialization.py:656: SourceChangeWarning: source code of class 'torch.nn.modules.container.Sequential' has changed. you can retrieve the original source code by accessing the object's source attribute or set `torch.nn.Module.dump_patches = True` and use the patch tool to revert the changes.\n",
      "  warnings.warn(msg, SourceChangeWarning)\n",
      "c:\\programdata\\anaconda3\\envs\\automated_class\\lib\\site-packages\\torch\\serialization.py:656: SourceChangeWarning: source code of class 'torch.nn.modules.conv.Conv2d' has changed. you can retrieve the original source code by accessing the object's source attribute or set `torch.nn.Module.dump_patches = True` and use the patch tool to revert the changes.\n",
      "  warnings.warn(msg, SourceChangeWarning)\n",
      "c:\\programdata\\anaconda3\\envs\\automated_class\\lib\\site-packages\\torch\\serialization.py:656: SourceChangeWarning: source code of class 'torch.nn.modules.batchnorm.BatchNorm2d' has changed. you can retrieve the original source code by accessing the object's source attribute or set `torch.nn.Module.dump_patches = True` and use the patch tool to revert the changes.\n",
      "  warnings.warn(msg, SourceChangeWarning)\n",
      "c:\\programdata\\anaconda3\\envs\\automated_class\\lib\\site-packages\\torch\\serialization.py:656: SourceChangeWarning: source code of class 'torch.nn.modules.activation.ReLU' has changed. you can retrieve the original source code by accessing the object's source attribute or set `torch.nn.Module.dump_patches = True` and use the patch tool to revert the changes.\n",
      "  warnings.warn(msg, SourceChangeWarning)\n",
      "c:\\programdata\\anaconda3\\envs\\automated_class\\lib\\site-packages\\torch\\serialization.py:656: SourceChangeWarning: source code of class 'torch.nn.modules.pooling.MaxPool2d' has changed. you can retrieve the original source code by accessing the object's source attribute or set `torch.nn.Module.dump_patches = True` and use the patch tool to revert the changes.\n",
      "  warnings.warn(msg, SourceChangeWarning)\n",
      "c:\\programdata\\anaconda3\\envs\\automated_class\\lib\\site-packages\\torch\\serialization.py:656: SourceChangeWarning: source code of class 'torchvision.models.shufflenetv2.InvertedResidual' has changed. you can retrieve the original source code by accessing the object's source attribute or set `torch.nn.Module.dump_patches = True` and use the patch tool to revert the changes.\n",
      "  warnings.warn(msg, SourceChangeWarning)\n",
      "c:\\programdata\\anaconda3\\envs\\automated_class\\lib\\site-packages\\torch\\serialization.py:656: SourceChangeWarning: source code of class 'torch.nn.modules.dropout.Dropout' has changed. you can retrieve the original source code by accessing the object's source attribute or set `torch.nn.Module.dump_patches = True` and use the patch tool to revert the changes.\n",
      "  warnings.warn(msg, SourceChangeWarning)\n",
      "c:\\programdata\\anaconda3\\envs\\automated_class\\lib\\site-packages\\torch\\serialization.py:656: SourceChangeWarning: source code of class 'torch.nn.modules.linear.Linear' has changed. you can retrieve the original source code by accessing the object's source attribute or set `torch.nn.Module.dump_patches = True` and use the patch tool to revert the changes.\n",
      "  warnings.warn(msg, SourceChangeWarning)\n",
      "c:\\programdata\\anaconda3\\envs\\automated_class\\lib\\site-packages\\torchvision\\transforms\\functional.py:132: UserWarning: The given NumPy array is not writeable, and PyTorch does not support non-writeable tensors. This means you can write to the underlying (supposedly non-writeable) NumPy array using the tensor. You may want to copy the array to protect its data or make it writeable before converting it to a tensor. This type of warning will be suppressed for the rest of this program. (Triggered internally at  ..\\torch\\csrc\\utils\\tensor_numpy.cpp:143.)\n",
      "  img = torch.from_numpy(np.array(pic, np.float32, copy=False))\n"
     ]
    },
    {
     "name": "stdout",
     "output_type": "stream",
     "text": [
      "classification = 23.412513732910156\n",
      "totalTime= 28.79642128944397\n"
     ]
    }
   ],
   "source": [
    "import os\n",
    "import numpy as np\n",
    "import imgCrop\n",
    "import easyTips as et\n",
    "import loadUse_v2\n",
    "import time\n",
    "\n",
    "\n",
    "# ------------------------parameters setting\n",
    "holoPath = r'C:\\Users\\NayakLab\\Desktop\\Ranjoy_data\\EastSound_2015\\automated_classification\\holographic_plankton_classification-main\\samples\\test/'\n",
    "netPath = r'C:\\Users\\NayakLab\\Desktop\\Ranjoy_data\\EastSound_2015\\automated_classification\\holographic_plankton_classification-main\\modelGen\\shufflenet_v2_x1_5_10classes_batch326.pt'\n",
    "classNum = 10\n",
    "fileType = '.tif'\n",
    "\n",
    "# -----------------------preprocessing parameters\n",
    "segmentSavePath = r'C:\\Users\\NayakLab\\Desktop\\Ranjoy_data\\EastSound_2015\\automated_classification\\holographic_plankton_classification-main\\samples\\test\\crop_withBackground/'\n",
    "cropSizeLimit = 20\n",
    "sigmaBlur= 0\n",
    "morphFlag = True\n",
    "adaptiveThreshold = True\n",
    "noSuperviewThre = False\n",
    "outputRawImg = False\n",
    "outputCoordinateFlag = True\n",
    "saveWithBackgroundFlag = True\n",
    "paddingNum = 20\n",
    "kernalSizeBlur = (101,101)\n",
    "matchFlag = True\n",
    "adaptPare1 = 211\n",
    "adaptPare2 = 2\n",
    "morphPara1 = (20,20)\n",
    "\n",
    "# ---------------------------net parameters\n",
    "outputPath = r'C:\\Users\\NayakLab\\Desktop\\Ranjoy_data\\EastSound_2015\\automated_classification\\holographic_plankton_classification-main\\samples\\test\\result_withBackground10/'\n",
    "resultOutPath = ''\n",
    "inputSize = 400\n",
    "batchSize = 5\n",
    "saveClsaaFlag = True\n",
    "printScoreFlag = True\n",
    "paddingFlag = True\n",
    "topFlag = True\n",
    "softCalFlag = True\n",
    "respectivelyCountFlag = True\n",
    "labelLib = ['Diatom_1', 'Diatom_2', 'Diatom_3', 'Diatom_4', 'Diatom_5', 'Copepod', 'Copepod_Nauplii', 'Ciliate',\n",
    "             'Ceratium_sp1','Ceratium_sp2', 'nothing']\n",
    "# labelLib = ['Diatom_1', 'Diatom_2', 'Diatom_3', 'Diatom_4', 'Diatom_5', 'Copepod', 'Copepod_Nauplii', 'Null',\n",
    "#             'Null','Null','Null']\n",
    "# labelLib = ['Diatom_1', 'Diatom_2', 'Diatom_3', 'Diatom_4', 'Diatom_5', 'Copepod', 'Copepod_Nauplii', 'Null',\n",
    "#             ]\n",
    "#labelLib = ['background', 'fuca_d', 'fuca_s', 'fusus_d', 'fusus_s', 'muelleri_d', 'muelleri_s', 'ciliate', 'diatom',\n",
    "#            'copeped','nauplii', 'round','square']\n",
    "\n",
    "beginTime = time.time()\n",
    "\n",
    "imgCrop.imgSegment(holoPath,fileType,matchFlag, outputCoordinateFlag,segmentSavePath,adaptiveThreshold,outputRawImg ,morphFlag ,\n",
    "                noSuperviewThre,sigmaBlur, kernalSizeBlur ,saveWithBackgroundFlag,cropSizeLimit, paddingNum, adaptPare1,adaptPare2,morphPara1)\n",
    "\n",
    "timeMark1 = time.time()\n",
    "print('segmentationTime =', timeMark1-beginTime)\n",
    "\n",
    "folderNum = len([lists for lists in os.listdir(segmentSavePath) if os.path.isdir(os.path.join(segmentSavePath, lists))])\n",
    "\n",
    "#et.creatFolder(outputPath, )\n",
    "\n",
    "timeMark2 = time.time()\n",
    "\n",
    "for groupNum in np.arange(folderNum):\n",
    "    imgPath = segmentSavePath + '/'+\"%05d\" % groupNum\n",
    "    loadUse_v2.netClassify(softCalFlag, paddingFlag, groupNum, netPath,imgPath,outputPath,labelLib,fileType, inputSize,batchSize,classNum,saveClsaaFlag,respectivelyCountFlag,printScoreFlag ,topFlag)\n",
    "\n",
    "timeMark3 = time.time()\n",
    "print('classification =', timeMark3-timeMark2)\n",
    "print('totalTime=', timeMark3-beginTime)\n"
   ]
  },
  {
   "cell_type": "code",
   "execution_count": 1,
   "id": "documentary-train",
   "metadata": {},
   "outputs": [
    {
     "ename": "NameError",
     "evalue": "name 'np' is not defined",
     "output_type": "error",
     "traceback": [
      "\u001b[1;31m---------------------------------------------------------------------------\u001b[0m",
      "\u001b[1;31mNameError\u001b[0m                                 Traceback (most recent call last)",
      "\u001b[1;32m~\\AppData\\Local\\Temp\\ipykernel_12908\\1920044504.py\u001b[0m in \u001b[0;36m<module>\u001b[1;34m\u001b[0m\n\u001b[1;32m----> 1\u001b[1;33m \u001b[0mnp\u001b[0m\u001b[1;33m.\u001b[0m\u001b[0marange\u001b[0m\u001b[1;33m(\u001b[0m\u001b[0mfolderNum\u001b[0m\u001b[1;33m)\u001b[0m\u001b[1;33m\u001b[0m\u001b[1;33m\u001b[0m\u001b[0m\n\u001b[0m",
      "\u001b[1;31mNameError\u001b[0m: name 'np' is not defined"
     ]
    }
   ],
   "source": [
    "np.arange(folderNum)"
   ]
  },
  {
   "cell_type": "code",
   "execution_count": 4,
   "id": "emotional-expense",
   "metadata": {},
   "outputs": [],
   "source": [
    "import torch\n",
    "from torchvision import transforms,datasets\n",
    "import numpy as np\n",
    "import os\n",
    "from torch.utils.data import DataLoader\n",
    "import time\n",
    "import torch.nn as nn\n",
    "from dataLoadProc import microPlankton"
   ]
  },
  {
   "cell_type": "code",
   "execution_count": 2,
   "id": "487ed6d9",
   "metadata": {},
   "outputs": [
    {
     "data": {
      "text/plain": [
       "device(type='cuda')"
      ]
     },
     "execution_count": 2,
     "metadata": {},
     "output_type": "execute_result"
    }
   ],
   "source": [
    "import torch\n",
    "torch.device(\"cuda\" if torch.cuda.is_available() else \"cpu\")"
   ]
  },
  {
   "cell_type": "code",
   "execution_count": null,
   "id": "67bb7bea",
   "metadata": {},
   "outputs": [],
   "source": []
  }
 ],
 "metadata": {
  "kernelspec": {
   "display_name": "Python 3",
   "language": "python",
   "name": "python3"
  },
  "language_info": {
   "codemirror_mode": {
    "name": "ipython",
    "version": 3
   },
   "file_extension": ".py",
   "mimetype": "text/x-python",
   "name": "python",
   "nbconvert_exporter": "python",
   "pygments_lexer": "ipython3",
   "version": "3.7.10"
  },
  "varInspector": {
   "cols": {
    "lenName": 16,
    "lenType": 16,
    "lenVar": 40
   },
   "kernels_config": {
    "python": {
     "delete_cmd_postfix": "",
     "delete_cmd_prefix": "del ",
     "library": "var_list.py",
     "varRefreshCmd": "print(var_dic_list())"
    },
    "r": {
     "delete_cmd_postfix": ") ",
     "delete_cmd_prefix": "rm(",
     "library": "var_list.r",
     "varRefreshCmd": "cat(var_dic_list()) "
    }
   },
   "types_to_exclude": [
    "module",
    "function",
    "builtin_function_or_method",
    "instance",
    "_Feature"
   ],
   "window_display": false
  }
 },
 "nbformat": 4,
 "nbformat_minor": 5
}
